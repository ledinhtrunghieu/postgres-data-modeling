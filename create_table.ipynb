{
 "metadata": {
  "language_info": {
   "codemirror_mode": {
    "name": "ipython",
    "version": 3
   },
   "file_extension": ".py",
   "mimetype": "text/x-python",
   "name": "python",
   "nbconvert_exporter": "python",
   "pygments_lexer": "ipython3",
   "version": "3.9.4"
  },
  "orig_nbformat": 2,
  "kernelspec": {
   "name": "python394jvsc74a57bd0900f0694acc064964699e78a6edfb089db62b200ad88e30afa87c26005b6686c",
   "display_name": "Python 3.9.4 64-bit"
  }
 },
 "nbformat": 4,
 "nbformat_minor": 2,
 "cells": [
  {
   "cell_type": "code",
   "execution_count": 1,
   "metadata": {},
   "outputs": [],
   "source": [
    "import psycopg2\n",
    "from sql_queries import create_table_queries, drop_table_queries"
   ]
  },
  {
   "cell_type": "code",
   "execution_count": 2,
   "metadata": {},
   "outputs": [],
   "source": [
    "def create_database():\n",
    "# connect to local database\n",
    "    conn = psycopg2.connect(\"host=localhost dbname=postgres user=postgres password=71769901\")\n",
    "    conn.set_session(autocommit=True)\n",
    "    cur = conn.cursor()\n"
   ]
  },
  {
   "cell_type": "code",
   "execution_count": null,
   "metadata": {},
   "outputs": [],
   "source": [
    "# Drop database first\n",
    "    cur.execute(\"DROP DATABASE IF EXISTS Sparkify\")\n",
    "# Create Database\n",
    "    cur.execute(\"CREATE DATABASE Sparkify)\n",
    "\n"
   ]
  }
 ]
}