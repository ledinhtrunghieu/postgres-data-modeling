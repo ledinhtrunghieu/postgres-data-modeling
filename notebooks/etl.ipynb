{
 "cells": [
  {
   "cell_type": "markdown",
   "metadata": {
    "editable": true
   },
   "source": [
    "# ETL Processes\n",
    "Use this notebook to develop the ETL process for each of your tables before completing the `etl.py` file to load the whole datasets."
   ]
  },
  {
   "cell_type": "code",
   "execution_count": 31,
   "metadata": {
    "editable": true
   },
   "outputs": [],
   "source": [
    "import sys\n",
    "sys.path.insert(0, '/home/workspace/python_scripts')\n",
    "\n",
    "import os\n",
    "import glob\n",
    "import psycopg2\n",
    "import pandas as pd\n",
    "from sql_queries import *"
   ]
  },
  {
   "cell_type": "code",
   "execution_count": 2,
   "metadata": {
    "editable": true
   },
   "outputs": [],
   "source": [
    "conn = psycopg2.connect(\"host=127.0.0.1 dbname=sparkifydb user=student password=student\")\n",
    "cur = conn.cursor()"
   ]
  },
  {
   "cell_type": "code",
   "execution_count": 3,
   "metadata": {
    "editable": true
   },
   "outputs": [],
   "source": [
    "def get_files(filepath):\n",
    "    all_files = []\n",
    "    for root, dirs, files in os.walk(filepath):\n",
    "        files = glob.glob(os.path.join(root,'*.json'))\n",
    "        for f in files :\n",
    "            all_files.append(os.path.abspath(f))\n",
    "    \n",
    "    return all_files"
   ]
  },
  {
   "cell_type": "markdown",
   "metadata": {
    "editable": true
   },
   "source": [
    "# Process `song_data`\n",
    "In this first part, you'll perform ETL on the first dataset, `song_data`, to create the `songs` and `artists` dimensional tables.\n",
    "\n",
    "Let's perform ETL on a single song file and load a single record into each table to start.\n",
    "- Use the `get_files` function provided above to get a list of all song JSON files in `data/song_data`\n",
    "- Select the first song in this list\n",
    "- Read the song file and view the data"
   ]
  },
  {
   "cell_type": "code",
   "execution_count": 4,
   "metadata": {
    "editable": true
   },
   "outputs": [],
   "source": [
    "song_files = get_files('data/song_data')"
   ]
  },
  {
   "cell_type": "code",
   "execution_count": 5,
   "metadata": {
    "editable": true
   },
   "outputs": [],
   "source": [
    "filepath = '../data/song_data/A/A/A/TRAAAFD128F92F423A.json'"
   ]
  },
  {
   "cell_type": "code",
   "execution_count": 6,
   "metadata": {
    "editable": true
   },
   "outputs": [
    {
     "data": {
      "text/html": [
       "<div>\n",
       "<style scoped>\n",
       "    .dataframe tbody tr th:only-of-type {\n",
       "        vertical-align: middle;\n",
       "    }\n",
       "\n",
       "    .dataframe tbody tr th {\n",
       "        vertical-align: top;\n",
       "    }\n",
       "\n",
       "    .dataframe thead th {\n",
       "        text-align: right;\n",
       "    }\n",
       "</style>\n",
       "<table border=\"1\" class=\"dataframe\">\n",
       "  <thead>\n",
       "    <tr style=\"text-align: right;\">\n",
       "      <th></th>\n",
       "      <th>artist_id</th>\n",
       "      <th>artist_latitude</th>\n",
       "      <th>artist_location</th>\n",
       "      <th>artist_longitude</th>\n",
       "      <th>artist_name</th>\n",
       "      <th>duration</th>\n",
       "      <th>num_songs</th>\n",
       "      <th>song_id</th>\n",
       "      <th>title</th>\n",
       "      <th>year</th>\n",
       "    </tr>\n",
       "  </thead>\n",
       "  <tbody>\n",
       "    <tr>\n",
       "      <th>0</th>\n",
       "      <td>ARXR32B1187FB57099</td>\n",
       "      <td>NaN</td>\n",
       "      <td></td>\n",
       "      <td>NaN</td>\n",
       "      <td>Gob</td>\n",
       "      <td>209.60608</td>\n",
       "      <td>1</td>\n",
       "      <td>SOFSOCN12A8C143F5D</td>\n",
       "      <td>Face the Ashes</td>\n",
       "      <td>2007</td>\n",
       "    </tr>\n",
       "  </tbody>\n",
       "</table>\n",
       "</div>"
      ],
      "text/plain": [
       "            artist_id  artist_latitude artist_location  artist_longitude  \\\n",
       "0  ARXR32B1187FB57099              NaN                               NaN   \n",
       "\n",
       "  artist_name   duration  num_songs             song_id           title  year  \n",
       "0         Gob  209.60608          1  SOFSOCN12A8C143F5D  Face the Ashes  2007  "
      ]
     },
     "execution_count": 6,
     "metadata": {},
     "output_type": "execute_result"
    }
   ],
   "source": [
    "df = pd.read_json(filepath, lines=True)\n",
    "df.head()"
   ]
  },
  {
   "cell_type": "markdown",
   "metadata": {
    "editable": true
   },
   "source": [
    "## #1: `songs` Table\n",
    "#### Extract Data for Songs Table\n",
    "- Select columns for song ID, title, artist ID, year, and duration\n",
    "- Use `df.values` to select just the values from the dataframe\n",
    "- Index to select the first (only) record in the dataframe\n",
    "- Convert the array to a list and set it to `song_data`"
   ]
  },
  {
   "cell_type": "code",
   "execution_count": 7,
   "metadata": {
    "editable": true
   },
   "outputs": [
    {
     "data": {
      "text/plain": [
       "['SOFSOCN12A8C143F5D', 'Face the Ashes', 'ARXR32B1187FB57099', 2007, 209]"
      ]
     },
     "execution_count": 7,
     "metadata": {},
     "output_type": "execute_result"
    }
   ],
   "source": [
    "# Convert duration to int\n",
    "df['duration'] = int(df['duration'])\n",
    "\n",
    "song_data = df[['song_id', 'title', 'artist_id', 'year', 'duration']]\n",
    "song_data = list(song_data.values[0])\n",
    "song_data"
   ]
  },
  {
   "cell_type": "markdown",
   "metadata": {
    "editable": true
   },
   "source": [
    "#### Insert Record into Song Table\n",
    "Implement the `song_table_insert` query in `sql_queries.py` and run the cell below to insert a record for this song into the `songs` table. Remember to run `create_tables.py` before running the cell below to ensure you've created/resetted the `songs` table in the sparkify database."
   ]
  },
  {
   "cell_type": "code",
   "execution_count": 8,
   "metadata": {
    "editable": true
   },
   "outputs": [],
   "source": [
    "cur.execute(song_table_insert,song_data)\n",
    "conn.commit()"
   ]
  },
  {
   "cell_type": "markdown",
   "metadata": {
    "editable": true
   },
   "source": [
    "Run `test.ipynb` to see if you've successfully added a record to this table."
   ]
  },
  {
   "cell_type": "markdown",
   "metadata": {
    "editable": true
   },
   "source": [
    "## #2: `artists` Table\n",
    "#### Extract Data for Artists Table\n",
    "- Select columns for artist ID, name, location, latitude, and longitude\n",
    "- Use `df.values` to select just the values from the dataframe\n",
    "- Index to select the first (only) record in the dataframe\n",
    "- Convert the array to a list and set it to `artist_data`"
   ]
  },
  {
   "cell_type": "code",
   "execution_count": 9,
   "metadata": {
    "editable": true
   },
   "outputs": [
    {
     "data": {
      "text/plain": [
       "['ARXR32B1187FB57099', 'Gob', '', nan, nan]"
      ]
     },
     "execution_count": 9,
     "metadata": {},
     "output_type": "execute_result"
    }
   ],
   "source": [
    "artist_data = df[['artist_id', 'artist_name', 'artist_location', 'artist_latitude', 'artist_longitude']]\n",
    "artist_data = list(artist_data.values[0])\n",
    "artist_data"
   ]
  },
  {
   "cell_type": "markdown",
   "metadata": {
    "editable": true
   },
   "source": [
    "#### Insert Record into Artist Table\n",
    "Implement the `artist_table_insert` query in `sql_queries.py` and run the cell below to insert a record for this song's artist into the `artists` table. Remember to run `create_tables.py` before running the cell below to ensure you've created/resetted the `artists` table in the sparkify database."
   ]
  },
  {
   "cell_type": "code",
   "execution_count": 10,
   "metadata": {
    "editable": true
   },
   "outputs": [],
   "source": [
    "cur.execute(artist_table_insert, artist_data)\n",
    "conn.commit()"
   ]
  },
  {
   "cell_type": "markdown",
   "metadata": {
    "editable": true
   },
   "source": [
    "Run `test.ipynb` to see if you've successfully added a record to this table."
   ]
  },
  {
   "cell_type": "markdown",
   "metadata": {
    "editable": true
   },
   "source": [
    "# Process `log_data`\n",
    "In this part, you'll perform ETL on the second dataset, `log_data`, to create the `time` and `users` dimensional tables, as well as the `songplays` fact table.\n",
    "\n",
    "Let's perform ETL on a single log file and load a single record into each table.\n",
    "- Use the `get_files` function provided above to get a list of all log JSON files in `data/log_data`\n",
    "- Select the first log file in this list\n",
    "- Read the log file and view the data"
   ]
  },
  {
   "cell_type": "code",
   "execution_count": 11,
   "metadata": {
    "editable": true
   },
   "outputs": [],
   "source": [
    "log_files = get_files('data/log_data')"
   ]
  },
  {
   "cell_type": "code",
   "execution_count": 12,
   "metadata": {
    "editable": true
   },
   "outputs": [],
   "source": [
    "filepath = '../data/log_data/2018/11/2018-11-08-events.json'"
   ]
  },
  {
   "cell_type": "code",
   "execution_count": 13,
   "metadata": {
    "editable": true
   },
   "outputs": [
    {
     "data": {
      "text/html": [
       "<div>\n",
       "<style scoped>\n",
       "    .dataframe tbody tr th:only-of-type {\n",
       "        vertical-align: middle;\n",
       "    }\n",
       "\n",
       "    .dataframe tbody tr th {\n",
       "        vertical-align: top;\n",
       "    }\n",
       "\n",
       "    .dataframe thead th {\n",
       "        text-align: right;\n",
       "    }\n",
       "</style>\n",
       "<table border=\"1\" class=\"dataframe\">\n",
       "  <thead>\n",
       "    <tr style=\"text-align: right;\">\n",
       "      <th></th>\n",
       "      <th>artist</th>\n",
       "      <th>auth</th>\n",
       "      <th>firstName</th>\n",
       "      <th>gender</th>\n",
       "      <th>itemInSession</th>\n",
       "      <th>lastName</th>\n",
       "      <th>length</th>\n",
       "      <th>level</th>\n",
       "      <th>location</th>\n",
       "      <th>method</th>\n",
       "      <th>page</th>\n",
       "      <th>registration</th>\n",
       "      <th>sessionId</th>\n",
       "      <th>song</th>\n",
       "      <th>status</th>\n",
       "      <th>ts</th>\n",
       "      <th>userAgent</th>\n",
       "      <th>userId</th>\n",
       "    </tr>\n",
       "  </thead>\n",
       "  <tbody>\n",
       "    <tr>\n",
       "      <th>0</th>\n",
       "      <td>None</td>\n",
       "      <td>Logged In</td>\n",
       "      <td>Dominick</td>\n",
       "      <td>M</td>\n",
       "      <td>0</td>\n",
       "      <td>Norris</td>\n",
       "      <td>NaN</td>\n",
       "      <td>free</td>\n",
       "      <td>Los Angeles-Long Beach-Anaheim, CA</td>\n",
       "      <td>GET</td>\n",
       "      <td>Home</td>\n",
       "      <td>1.540976e+12</td>\n",
       "      <td>44</td>\n",
       "      <td>None</td>\n",
       "      <td>200</td>\n",
       "      <td>1541635950796</td>\n",
       "      <td>\"Mozilla/5.0 (iPhone; CPU iPhone OS 7_1_2 like...</td>\n",
       "      <td>45</td>\n",
       "    </tr>\n",
       "    <tr>\n",
       "      <th>1</th>\n",
       "      <td>Slipknot</td>\n",
       "      <td>Logged In</td>\n",
       "      <td>Aiden</td>\n",
       "      <td>M</td>\n",
       "      <td>0</td>\n",
       "      <td>Ramirez</td>\n",
       "      <td>192.57424</td>\n",
       "      <td>paid</td>\n",
       "      <td>New York-Newark-Jersey City, NY-NJ-PA</td>\n",
       "      <td>PUT</td>\n",
       "      <td>NextSong</td>\n",
       "      <td>1.540284e+12</td>\n",
       "      <td>19</td>\n",
       "      <td>Opium Of The People (Album Version)</td>\n",
       "      <td>200</td>\n",
       "      <td>1541639510796</td>\n",
       "      <td>\"Mozilla/5.0 (Windows NT 6.1) AppleWebKit/537....</td>\n",
       "      <td>20</td>\n",
       "    </tr>\n",
       "    <tr>\n",
       "      <th>2</th>\n",
       "      <td>Cat Stevens</td>\n",
       "      <td>Logged In</td>\n",
       "      <td>Aiden</td>\n",
       "      <td>M</td>\n",
       "      <td>1</td>\n",
       "      <td>Ramirez</td>\n",
       "      <td>170.57914</td>\n",
       "      <td>paid</td>\n",
       "      <td>New York-Newark-Jersey City, NY-NJ-PA</td>\n",
       "      <td>PUT</td>\n",
       "      <td>NextSong</td>\n",
       "      <td>1.540284e+12</td>\n",
       "      <td>19</td>\n",
       "      <td>Don't Be Shy</td>\n",
       "      <td>200</td>\n",
       "      <td>1541639702796</td>\n",
       "      <td>\"Mozilla/5.0 (Windows NT 6.1) AppleWebKit/537....</td>\n",
       "      <td>20</td>\n",
       "    </tr>\n",
       "    <tr>\n",
       "      <th>3</th>\n",
       "      <td>Collective Soul</td>\n",
       "      <td>Logged In</td>\n",
       "      <td>Aiden</td>\n",
       "      <td>M</td>\n",
       "      <td>2</td>\n",
       "      <td>Ramirez</td>\n",
       "      <td>273.47546</td>\n",
       "      <td>paid</td>\n",
       "      <td>New York-Newark-Jersey City, NY-NJ-PA</td>\n",
       "      <td>PUT</td>\n",
       "      <td>NextSong</td>\n",
       "      <td>1.540284e+12</td>\n",
       "      <td>19</td>\n",
       "      <td>Run (LP Version)</td>\n",
       "      <td>200</td>\n",
       "      <td>1541639872796</td>\n",
       "      <td>\"Mozilla/5.0 (Windows NT 6.1) AppleWebKit/537....</td>\n",
       "      <td>20</td>\n",
       "    </tr>\n",
       "    <tr>\n",
       "      <th>4</th>\n",
       "      <td>Taylor Swift</td>\n",
       "      <td>Logged In</td>\n",
       "      <td>Aiden</td>\n",
       "      <td>M</td>\n",
       "      <td>3</td>\n",
       "      <td>Ramirez</td>\n",
       "      <td>233.89995</td>\n",
       "      <td>paid</td>\n",
       "      <td>New York-Newark-Jersey City, NY-NJ-PA</td>\n",
       "      <td>PUT</td>\n",
       "      <td>NextSong</td>\n",
       "      <td>1.540284e+12</td>\n",
       "      <td>19</td>\n",
       "      <td>Love Story</td>\n",
       "      <td>200</td>\n",
       "      <td>1541640145796</td>\n",
       "      <td>\"Mozilla/5.0 (Windows NT 6.1) AppleWebKit/537....</td>\n",
       "      <td>20</td>\n",
       "    </tr>\n",
       "  </tbody>\n",
       "</table>\n",
       "</div>"
      ],
      "text/plain": [
       "            artist       auth firstName gender  itemInSession lastName  \\\n",
       "0             None  Logged In  Dominick      M              0   Norris   \n",
       "1         Slipknot  Logged In     Aiden      M              0  Ramirez   \n",
       "2      Cat Stevens  Logged In     Aiden      M              1  Ramirez   \n",
       "3  Collective Soul  Logged In     Aiden      M              2  Ramirez   \n",
       "4     Taylor Swift  Logged In     Aiden      M              3  Ramirez   \n",
       "\n",
       "      length level                               location method      page  \\\n",
       "0        NaN  free     Los Angeles-Long Beach-Anaheim, CA    GET      Home   \n",
       "1  192.57424  paid  New York-Newark-Jersey City, NY-NJ-PA    PUT  NextSong   \n",
       "2  170.57914  paid  New York-Newark-Jersey City, NY-NJ-PA    PUT  NextSong   \n",
       "3  273.47546  paid  New York-Newark-Jersey City, NY-NJ-PA    PUT  NextSong   \n",
       "4  233.89995  paid  New York-Newark-Jersey City, NY-NJ-PA    PUT  NextSong   \n",
       "\n",
       "   registration  sessionId                                 song  status  \\\n",
       "0  1.540976e+12         44                                 None     200   \n",
       "1  1.540284e+12         19  Opium Of The People (Album Version)     200   \n",
       "2  1.540284e+12         19                         Don't Be Shy     200   \n",
       "3  1.540284e+12         19                     Run (LP Version)     200   \n",
       "4  1.540284e+12         19                           Love Story     200   \n",
       "\n",
       "              ts                                          userAgent userId  \n",
       "0  1541635950796  \"Mozilla/5.0 (iPhone; CPU iPhone OS 7_1_2 like...     45  \n",
       "1  1541639510796  \"Mozilla/5.0 (Windows NT 6.1) AppleWebKit/537....     20  \n",
       "2  1541639702796  \"Mozilla/5.0 (Windows NT 6.1) AppleWebKit/537....     20  \n",
       "3  1541639872796  \"Mozilla/5.0 (Windows NT 6.1) AppleWebKit/537....     20  \n",
       "4  1541640145796  \"Mozilla/5.0 (Windows NT 6.1) AppleWebKit/537....     20  "
      ]
     },
     "execution_count": 13,
     "metadata": {},
     "output_type": "execute_result"
    }
   ],
   "source": [
    "df = pd.read_json(filepath, lines=True)\n",
    "df.head()"
   ]
  },
  {
   "cell_type": "markdown",
   "metadata": {
    "editable": true
   },
   "source": [
    "## #3: `time` Table\n",
    "#### Extract Data for Time Table\n",
    "- Filter records by `NextSong` action\n",
    "- Convert the `ts` timestamp column to datetime\n",
    "  - Hint: the current timestamp is in milliseconds\n",
    "- Extract the timestamp, hour, day, week of year, month, year, and weekday from the `ts` column and set `time_data` to a list containing these values in order\n",
    "  - Hint: use pandas' [`dt` attribute](https://pandas.pydata.org/pandas-docs/stable/reference/api/pandas.Series.dt.html) to access easily datetimelike properties.\n",
    "- Specify labels for these columns and set to `column_labels`\n",
    "- Create a dataframe, `time_df,` containing the time data for this file by combining `column_labels` and `time_data` into a dictionary and converting this into a dataframe"
   ]
  },
  {
   "cell_type": "code",
   "execution_count": 14,
   "metadata": {
    "editable": true
   },
   "outputs": [
    {
     "data": {
      "text/html": [
       "<div>\n",
       "<style scoped>\n",
       "    .dataframe tbody tr th:only-of-type {\n",
       "        vertical-align: middle;\n",
       "    }\n",
       "\n",
       "    .dataframe tbody tr th {\n",
       "        vertical-align: top;\n",
       "    }\n",
       "\n",
       "    .dataframe thead th {\n",
       "        text-align: right;\n",
       "    }\n",
       "</style>\n",
       "<table border=\"1\" class=\"dataframe\">\n",
       "  <thead>\n",
       "    <tr style=\"text-align: right;\">\n",
       "      <th></th>\n",
       "      <th>artist</th>\n",
       "      <th>auth</th>\n",
       "      <th>firstName</th>\n",
       "      <th>gender</th>\n",
       "      <th>itemInSession</th>\n",
       "      <th>lastName</th>\n",
       "      <th>length</th>\n",
       "      <th>level</th>\n",
       "      <th>location</th>\n",
       "      <th>method</th>\n",
       "      <th>page</th>\n",
       "      <th>registration</th>\n",
       "      <th>sessionId</th>\n",
       "      <th>song</th>\n",
       "      <th>status</th>\n",
       "      <th>ts</th>\n",
       "      <th>userAgent</th>\n",
       "      <th>userId</th>\n",
       "    </tr>\n",
       "  </thead>\n",
       "  <tbody>\n",
       "    <tr>\n",
       "      <th>1</th>\n",
       "      <td>Slipknot</td>\n",
       "      <td>Logged In</td>\n",
       "      <td>Aiden</td>\n",
       "      <td>M</td>\n",
       "      <td>0</td>\n",
       "      <td>Ramirez</td>\n",
       "      <td>192.57424</td>\n",
       "      <td>paid</td>\n",
       "      <td>New York-Newark-Jersey City, NY-NJ-PA</td>\n",
       "      <td>PUT</td>\n",
       "      <td>NextSong</td>\n",
       "      <td>1.540284e+12</td>\n",
       "      <td>19</td>\n",
       "      <td>Opium Of The People (Album Version)</td>\n",
       "      <td>200</td>\n",
       "      <td>1541639510796</td>\n",
       "      <td>\"Mozilla/5.0 (Windows NT 6.1) AppleWebKit/537....</td>\n",
       "      <td>20</td>\n",
       "    </tr>\n",
       "    <tr>\n",
       "      <th>2</th>\n",
       "      <td>Cat Stevens</td>\n",
       "      <td>Logged In</td>\n",
       "      <td>Aiden</td>\n",
       "      <td>M</td>\n",
       "      <td>1</td>\n",
       "      <td>Ramirez</td>\n",
       "      <td>170.57914</td>\n",
       "      <td>paid</td>\n",
       "      <td>New York-Newark-Jersey City, NY-NJ-PA</td>\n",
       "      <td>PUT</td>\n",
       "      <td>NextSong</td>\n",
       "      <td>1.540284e+12</td>\n",
       "      <td>19</td>\n",
       "      <td>Don't Be Shy</td>\n",
       "      <td>200</td>\n",
       "      <td>1541639702796</td>\n",
       "      <td>\"Mozilla/5.0 (Windows NT 6.1) AppleWebKit/537....</td>\n",
       "      <td>20</td>\n",
       "    </tr>\n",
       "    <tr>\n",
       "      <th>3</th>\n",
       "      <td>Collective Soul</td>\n",
       "      <td>Logged In</td>\n",
       "      <td>Aiden</td>\n",
       "      <td>M</td>\n",
       "      <td>2</td>\n",
       "      <td>Ramirez</td>\n",
       "      <td>273.47546</td>\n",
       "      <td>paid</td>\n",
       "      <td>New York-Newark-Jersey City, NY-NJ-PA</td>\n",
       "      <td>PUT</td>\n",
       "      <td>NextSong</td>\n",
       "      <td>1.540284e+12</td>\n",
       "      <td>19</td>\n",
       "      <td>Run (LP Version)</td>\n",
       "      <td>200</td>\n",
       "      <td>1541639872796</td>\n",
       "      <td>\"Mozilla/5.0 (Windows NT 6.1) AppleWebKit/537....</td>\n",
       "      <td>20</td>\n",
       "    </tr>\n",
       "    <tr>\n",
       "      <th>4</th>\n",
       "      <td>Taylor Swift</td>\n",
       "      <td>Logged In</td>\n",
       "      <td>Aiden</td>\n",
       "      <td>M</td>\n",
       "      <td>3</td>\n",
       "      <td>Ramirez</td>\n",
       "      <td>233.89995</td>\n",
       "      <td>paid</td>\n",
       "      <td>New York-Newark-Jersey City, NY-NJ-PA</td>\n",
       "      <td>PUT</td>\n",
       "      <td>NextSong</td>\n",
       "      <td>1.540284e+12</td>\n",
       "      <td>19</td>\n",
       "      <td>Love Story</td>\n",
       "      <td>200</td>\n",
       "      <td>1541640145796</td>\n",
       "      <td>\"Mozilla/5.0 (Windows NT 6.1) AppleWebKit/537....</td>\n",
       "      <td>20</td>\n",
       "    </tr>\n",
       "    <tr>\n",
       "      <th>5</th>\n",
       "      <td>The Dixie Cups</td>\n",
       "      <td>Logged In</td>\n",
       "      <td>Aiden</td>\n",
       "      <td>M</td>\n",
       "      <td>4</td>\n",
       "      <td>Ramirez</td>\n",
       "      <td>120.05832</td>\n",
       "      <td>paid</td>\n",
       "      <td>New York-Newark-Jersey City, NY-NJ-PA</td>\n",
       "      <td>PUT</td>\n",
       "      <td>NextSong</td>\n",
       "      <td>1.540284e+12</td>\n",
       "      <td>19</td>\n",
       "      <td>Iko Iko</td>\n",
       "      <td>200</td>\n",
       "      <td>1541640378796</td>\n",
       "      <td>\"Mozilla/5.0 (Windows NT 6.1) AppleWebKit/537....</td>\n",
       "      <td>20</td>\n",
       "    </tr>\n",
       "  </tbody>\n",
       "</table>\n",
       "</div>"
      ],
      "text/plain": [
       "            artist       auth firstName gender  itemInSession lastName  \\\n",
       "1         Slipknot  Logged In     Aiden      M              0  Ramirez   \n",
       "2      Cat Stevens  Logged In     Aiden      M              1  Ramirez   \n",
       "3  Collective Soul  Logged In     Aiden      M              2  Ramirez   \n",
       "4     Taylor Swift  Logged In     Aiden      M              3  Ramirez   \n",
       "5   The Dixie Cups  Logged In     Aiden      M              4  Ramirez   \n",
       "\n",
       "      length level                               location method      page  \\\n",
       "1  192.57424  paid  New York-Newark-Jersey City, NY-NJ-PA    PUT  NextSong   \n",
       "2  170.57914  paid  New York-Newark-Jersey City, NY-NJ-PA    PUT  NextSong   \n",
       "3  273.47546  paid  New York-Newark-Jersey City, NY-NJ-PA    PUT  NextSong   \n",
       "4  233.89995  paid  New York-Newark-Jersey City, NY-NJ-PA    PUT  NextSong   \n",
       "5  120.05832  paid  New York-Newark-Jersey City, NY-NJ-PA    PUT  NextSong   \n",
       "\n",
       "   registration  sessionId                                 song  status  \\\n",
       "1  1.540284e+12         19  Opium Of The People (Album Version)     200   \n",
       "2  1.540284e+12         19                         Don't Be Shy     200   \n",
       "3  1.540284e+12         19                     Run (LP Version)     200   \n",
       "4  1.540284e+12         19                           Love Story     200   \n",
       "5  1.540284e+12         19                              Iko Iko     200   \n",
       "\n",
       "              ts                                          userAgent userId  \n",
       "1  1541639510796  \"Mozilla/5.0 (Windows NT 6.1) AppleWebKit/537....     20  \n",
       "2  1541639702796  \"Mozilla/5.0 (Windows NT 6.1) AppleWebKit/537....     20  \n",
       "3  1541639872796  \"Mozilla/5.0 (Windows NT 6.1) AppleWebKit/537....     20  \n",
       "4  1541640145796  \"Mozilla/5.0 (Windows NT 6.1) AppleWebKit/537....     20  \n",
       "5  1541640378796  \"Mozilla/5.0 (Windows NT 6.1) AppleWebKit/537....     20  "
      ]
     },
     "execution_count": 14,
     "metadata": {},
     "output_type": "execute_result"
    }
   ],
   "source": [
    "df =  df[df['page'] == 'NextSong']\n",
    "df.head()"
   ]
  },
  {
   "cell_type": "code",
   "execution_count": 15,
   "metadata": {
    "editable": true
   },
   "outputs": [
    {
     "data": {
      "text/plain": [
       "1   2018-11-08 01:11:50.796\n",
       "2   2018-11-08 01:15:02.796\n",
       "3   2018-11-08 01:17:52.796\n",
       "4   2018-11-08 01:22:25.796\n",
       "5   2018-11-08 01:26:18.796\n",
       "Name: ts, dtype: datetime64[ns]"
      ]
     },
     "execution_count": 15,
     "metadata": {},
     "output_type": "execute_result"
    }
   ],
   "source": [
    "t = pd.to_datetime(df['ts'], unit='ms')\n",
    "t.head()"
   ]
  },
  {
   "cell_type": "code",
   "execution_count": 16,
   "metadata": {
    "editable": true
   },
   "outputs": [
    {
     "data": {
      "text/plain": [
       "[(1541639510, 1, 8, 45, 11, 2018, 3),\n",
       " (1541639702, 1, 8, 45, 11, 2018, 3),\n",
       " (1541639872, 1, 8, 45, 11, 2018, 3),\n",
       " (1541640145, 1, 8, 45, 11, 2018, 3),\n",
       " (1541640378, 1, 8, 45, 11, 2018, 3),\n",
       " (1541640498, 1, 8, 45, 11, 2018, 3),\n",
       " (1541640655, 1, 8, 45, 11, 2018, 3),\n",
       " (1541640935, 1, 8, 45, 11, 2018, 3),\n",
       " (1541641099, 1, 8, 45, 11, 2018, 3),\n",
       " (1541641180, 1, 8, 45, 11, 2018, 3),\n",
       " (1541648892, 3, 8, 45, 11, 2018, 3),\n",
       " (1541649279, 3, 8, 45, 11, 2018, 3),\n",
       " (1541649506, 3, 8, 45, 11, 2018, 3),\n",
       " (1541649691, 4, 8, 45, 11, 2018, 3),\n",
       " (1541658199, 6, 8, 45, 11, 2018, 3),\n",
       " (1541658432, 6, 8, 45, 11, 2018, 3),\n",
       " (1541660400, 7, 8, 45, 11, 2018, 3),\n",
       " (1541661323, 7, 8, 45, 11, 2018, 3),\n",
       " (1541661518, 7, 8, 45, 11, 2018, 3),\n",
       " (1541661733, 7, 8, 45, 11, 2018, 3),\n",
       " (1541662640, 7, 8, 45, 11, 2018, 3),\n",
       " (1541662868, 7, 8, 45, 11, 2018, 3),\n",
       " (1541663092, 7, 8, 45, 11, 2018, 3),\n",
       " (1541663314, 7, 8, 45, 11, 2018, 3),\n",
       " (1541663553, 7, 8, 45, 11, 2018, 3),\n",
       " (1541663782, 7, 8, 45, 11, 2018, 3),\n",
       " (1541664066, 8, 8, 45, 11, 2018, 3),\n",
       " (1541665227, 8, 8, 45, 11, 2018, 3),\n",
       " (1541665502, 8, 8, 45, 11, 2018, 3),\n",
       " (1541665739, 8, 8, 45, 11, 2018, 3),\n",
       " (1541666022, 8, 8, 45, 11, 2018, 3),\n",
       " (1541666173, 8, 8, 45, 11, 2018, 3),\n",
       " (1541666290, 8, 8, 45, 11, 2018, 3),\n",
       " (1541666439, 8, 8, 45, 11, 2018, 3),\n",
       " (1541666784, 8, 8, 45, 11, 2018, 3),\n",
       " (1541667049, 8, 8, 45, 11, 2018, 3),\n",
       " (1541667258, 8, 8, 45, 11, 2018, 3),\n",
       " (1541667433, 8, 8, 45, 11, 2018, 3),\n",
       " (1541667655, 9, 8, 45, 11, 2018, 3),\n",
       " (1541668029, 9, 8, 45, 11, 2018, 3),\n",
       " (1541668284, 9, 8, 45, 11, 2018, 3),\n",
       " (1541668531, 9, 8, 45, 11, 2018, 3),\n",
       " (1541668780, 9, 8, 45, 11, 2018, 3),\n",
       " (1541668988, 9, 8, 45, 11, 2018, 3),\n",
       " (1541669193, 9, 8, 45, 11, 2018, 3),\n",
       " (1541669342, 9, 8, 45, 11, 2018, 3),\n",
       " (1541669530, 9, 8, 45, 11, 2018, 3),\n",
       " (1541669750, 9, 8, 45, 11, 2018, 3),\n",
       " (1541670010, 9, 8, 45, 11, 2018, 3),\n",
       " (1541670343, 9, 8, 45, 11, 2018, 3),\n",
       " (1541671259, 10, 8, 45, 11, 2018, 3),\n",
       " (1541671632, 10, 8, 45, 11, 2018, 3),\n",
       " (1541671867, 10, 8, 45, 11, 2018, 3),\n",
       " (1541672174, 10, 8, 45, 11, 2018, 3),\n",
       " (1541672449, 10, 8, 45, 11, 2018, 3),\n",
       " (1541672710, 10, 8, 45, 11, 2018, 3),\n",
       " (1541672907, 10, 8, 45, 11, 2018, 3),\n",
       " (1541673179, 10, 8, 45, 11, 2018, 3),\n",
       " (1541673271, 10, 8, 45, 11, 2018, 3),\n",
       " (1541673555, 10, 8, 45, 11, 2018, 3),\n",
       " (1541673623, 10, 8, 45, 11, 2018, 3),\n",
       " (1541673845, 10, 8, 45, 11, 2018, 3),\n",
       " (1541674007, 10, 8, 45, 11, 2018, 3),\n",
       " (1541674245, 10, 8, 45, 11, 2018, 3),\n",
       " (1541674271, 10, 8, 45, 11, 2018, 3),\n",
       " (1541674446, 10, 8, 45, 11, 2018, 3),\n",
       " (1541674556, 10, 8, 45, 11, 2018, 3),\n",
       " (1541674636, 10, 8, 45, 11, 2018, 3),\n",
       " (1541674722, 10, 8, 45, 11, 2018, 3),\n",
       " (1541674839, 11, 8, 45, 11, 2018, 3),\n",
       " (1541674975, 11, 8, 45, 11, 2018, 3),\n",
       " (1541675072, 11, 8, 45, 11, 2018, 3),\n",
       " (1541675263, 11, 8, 45, 11, 2018, 3),\n",
       " (1541675489, 11, 8, 45, 11, 2018, 3),\n",
       " (1541675751, 11, 8, 45, 11, 2018, 3),\n",
       " (1541676406, 11, 8, 45, 11, 2018, 3),\n",
       " (1541676696, 11, 8, 45, 11, 2018, 3),\n",
       " (1541676875, 11, 8, 45, 11, 2018, 3),\n",
       " (1541677050, 11, 8, 45, 11, 2018, 3),\n",
       " (1541677384, 11, 8, 45, 11, 2018, 3),\n",
       " (1541677683, 11, 8, 45, 11, 2018, 3),\n",
       " (1541677866, 11, 8, 45, 11, 2018, 3),\n",
       " (1541678073, 11, 8, 45, 11, 2018, 3),\n",
       " (1541678400, 12, 8, 45, 11, 2018, 3),\n",
       " (1541678588, 12, 8, 45, 11, 2018, 3),\n",
       " (1541678638, 12, 8, 45, 11, 2018, 3),\n",
       " (1541678854, 12, 8, 45, 11, 2018, 3),\n",
       " (1541678864, 12, 8, 45, 11, 2018, 3),\n",
       " (1541679039, 12, 8, 45, 11, 2018, 3),\n",
       " (1541679079, 12, 8, 45, 11, 2018, 3),\n",
       " (1541679118, 12, 8, 45, 11, 2018, 3),\n",
       " (1541679196, 12, 8, 45, 11, 2018, 3),\n",
       " (1541679307, 12, 8, 45, 11, 2018, 3),\n",
       " (1541679368, 12, 8, 45, 11, 2018, 3),\n",
       " (1541679530, 12, 8, 45, 11, 2018, 3),\n",
       " (1541679636, 12, 8, 45, 11, 2018, 3),\n",
       " (1541679666, 12, 8, 45, 11, 2018, 3),\n",
       " (1541679823, 12, 8, 45, 11, 2018, 3),\n",
       " (1541679856, 12, 8, 45, 11, 2018, 3),\n",
       " (1541680094, 12, 8, 45, 11, 2018, 3),\n",
       " (1541680251, 12, 8, 45, 11, 2018, 3),\n",
       " (1541680343, 12, 8, 45, 11, 2018, 3),\n",
       " (1541680543, 12, 8, 45, 11, 2018, 3),\n",
       " (1541680747, 12, 8, 45, 11, 2018, 3),\n",
       " (1541680937, 12, 8, 45, 11, 2018, 3),\n",
       " (1541681237, 12, 8, 45, 11, 2018, 3),\n",
       " (1541681468, 12, 8, 45, 11, 2018, 3),\n",
       " (1541681577, 12, 8, 45, 11, 2018, 3),\n",
       " (1541681772, 12, 8, 45, 11, 2018, 3),\n",
       " (1541681935, 12, 8, 45, 11, 2018, 3),\n",
       " (1541682194, 13, 8, 45, 11, 2018, 3),\n",
       " (1541682436, 13, 8, 45, 11, 2018, 3),\n",
       " (1541682673, 13, 8, 45, 11, 2018, 3),\n",
       " (1541682889, 13, 8, 45, 11, 2018, 3),\n",
       " (1541684068, 13, 8, 45, 11, 2018, 3),\n",
       " (1541684387, 13, 8, 45, 11, 2018, 3),\n",
       " (1541684775, 13, 8, 45, 11, 2018, 3),\n",
       " (1541684934, 13, 8, 45, 11, 2018, 3),\n",
       " (1541685218, 13, 8, 45, 11, 2018, 3),\n",
       " (1541686302, 14, 8, 45, 11, 2018, 3),\n",
       " (1541686518, 14, 8, 45, 11, 2018, 3),\n",
       " (1541686692, 14, 8, 45, 11, 2018, 3),\n",
       " (1541686937, 14, 8, 45, 11, 2018, 3),\n",
       " (1541687095, 14, 8, 45, 11, 2018, 3),\n",
       " (1541687228, 14, 8, 45, 11, 2018, 3),\n",
       " (1541687264, 14, 8, 45, 11, 2018, 3),\n",
       " (1541687566, 14, 8, 45, 11, 2018, 3),\n",
       " (1541687776, 14, 8, 45, 11, 2018, 3),\n",
       " (1541688018, 14, 8, 45, 11, 2018, 3),\n",
       " (1541688167, 14, 8, 45, 11, 2018, 3),\n",
       " (1541688225, 14, 8, 45, 11, 2018, 3),\n",
       " (1541688337, 14, 8, 45, 11, 2018, 3),\n",
       " (1541688446, 14, 8, 45, 11, 2018, 3),\n",
       " (1541688560, 14, 8, 45, 11, 2018, 3),\n",
       " (1541688804, 14, 8, 45, 11, 2018, 3),\n",
       " (1541688845, 14, 8, 45, 11, 2018, 3),\n",
       " (1541688985, 14, 8, 45, 11, 2018, 3),\n",
       " (1541689108, 14, 8, 45, 11, 2018, 3),\n",
       " (1541689317, 15, 8, 45, 11, 2018, 3),\n",
       " (1541689769, 15, 8, 45, 11, 2018, 3),\n",
       " (1541690034, 15, 8, 45, 11, 2018, 3),\n",
       " (1541691894, 15, 8, 45, 11, 2018, 3),\n",
       " (1541692145, 15, 8, 45, 11, 2018, 3),\n",
       " (1541700032, 18, 8, 45, 11, 2018, 3),\n",
       " (1541701401, 18, 8, 45, 11, 2018, 3),\n",
       " (1541703382, 18, 8, 45, 11, 2018, 3),\n",
       " (1541703422, 18, 8, 45, 11, 2018, 3),\n",
       " (1541703578, 18, 8, 45, 11, 2018, 3),\n",
       " (1541703751, 19, 8, 45, 11, 2018, 3),\n",
       " (1541703926, 19, 8, 45, 11, 2018, 3),\n",
       " (1541704289, 19, 8, 45, 11, 2018, 3),\n",
       " (1541704463, 19, 8, 45, 11, 2018, 3),\n",
       " (1541704804, 19, 8, 45, 11, 2018, 3),\n",
       " (1541704973, 19, 8, 45, 11, 2018, 3),\n",
       " (1541705240, 19, 8, 45, 11, 2018, 3),\n",
       " (1541705799, 19, 8, 45, 11, 2018, 3),\n",
       " (1541709314, 20, 8, 45, 11, 2018, 3),\n",
       " (1541713318, 21, 8, 45, 11, 2018, 3),\n",
       " (1541713521, 21, 8, 45, 11, 2018, 3),\n",
       " (1541713708, 21, 8, 45, 11, 2018, 3),\n",
       " (1541721576, 23, 8, 45, 11, 2018, 3)]"
      ]
     },
     "execution_count": 16,
     "metadata": {},
     "output_type": "execute_result"
    }
   ],
   "source": [
    "time_data = [(int(dt.timestamp()), dt.hour, dt.day, dt.week, dt.month, dt.year, dt.weekday()) for dt in t]\n",
    "column_labels = ('timestamp', 'hour', 'day', 'week', 'month', 'year', 'weekday')\n",
    "time_data"
   ]
  },
  {
   "cell_type": "code",
   "execution_count": 17,
   "metadata": {
    "editable": true
   },
   "outputs": [
    {
     "data": {
      "text/html": [
       "<div>\n",
       "<style scoped>\n",
       "    .dataframe tbody tr th:only-of-type {\n",
       "        vertical-align: middle;\n",
       "    }\n",
       "\n",
       "    .dataframe tbody tr th {\n",
       "        vertical-align: top;\n",
       "    }\n",
       "\n",
       "    .dataframe thead th {\n",
       "        text-align: right;\n",
       "    }\n",
       "</style>\n",
       "<table border=\"1\" class=\"dataframe\">\n",
       "  <thead>\n",
       "    <tr style=\"text-align: right;\">\n",
       "      <th></th>\n",
       "      <th>timestamp</th>\n",
       "      <th>hour</th>\n",
       "      <th>day</th>\n",
       "      <th>week</th>\n",
       "      <th>month</th>\n",
       "      <th>year</th>\n",
       "      <th>weekday</th>\n",
       "    </tr>\n",
       "  </thead>\n",
       "  <tbody>\n",
       "    <tr>\n",
       "      <th>0</th>\n",
       "      <td>1541639510</td>\n",
       "      <td>1</td>\n",
       "      <td>8</td>\n",
       "      <td>45</td>\n",
       "      <td>11</td>\n",
       "      <td>2018</td>\n",
       "      <td>3</td>\n",
       "    </tr>\n",
       "    <tr>\n",
       "      <th>1</th>\n",
       "      <td>1541639702</td>\n",
       "      <td>1</td>\n",
       "      <td>8</td>\n",
       "      <td>45</td>\n",
       "      <td>11</td>\n",
       "      <td>2018</td>\n",
       "      <td>3</td>\n",
       "    </tr>\n",
       "    <tr>\n",
       "      <th>2</th>\n",
       "      <td>1541639872</td>\n",
       "      <td>1</td>\n",
       "      <td>8</td>\n",
       "      <td>45</td>\n",
       "      <td>11</td>\n",
       "      <td>2018</td>\n",
       "      <td>3</td>\n",
       "    </tr>\n",
       "    <tr>\n",
       "      <th>3</th>\n",
       "      <td>1541640145</td>\n",
       "      <td>1</td>\n",
       "      <td>8</td>\n",
       "      <td>45</td>\n",
       "      <td>11</td>\n",
       "      <td>2018</td>\n",
       "      <td>3</td>\n",
       "    </tr>\n",
       "    <tr>\n",
       "      <th>4</th>\n",
       "      <td>1541640378</td>\n",
       "      <td>1</td>\n",
       "      <td>8</td>\n",
       "      <td>45</td>\n",
       "      <td>11</td>\n",
       "      <td>2018</td>\n",
       "      <td>3</td>\n",
       "    </tr>\n",
       "  </tbody>\n",
       "</table>\n",
       "</div>"
      ],
      "text/plain": [
       "    timestamp  hour  day  week  month  year  weekday\n",
       "0  1541639510     1    8    45     11  2018        3\n",
       "1  1541639702     1    8    45     11  2018        3\n",
       "2  1541639872     1    8    45     11  2018        3\n",
       "3  1541640145     1    8    45     11  2018        3\n",
       "4  1541640378     1    8    45     11  2018        3"
      ]
     },
     "execution_count": 17,
     "metadata": {},
     "output_type": "execute_result"
    }
   ],
   "source": [
    "time_df = pd.DataFrame(time_data, columns=column_labels)\n",
    "time_df.head()"
   ]
  },
  {
   "cell_type": "markdown",
   "metadata": {
    "editable": true
   },
   "source": [
    "#### Insert Records into Time Table\n",
    "Implement the `time_table_insert` query in `sql_queries.py` and run the cell below to insert records for the timestamps in this log file into the `time` table. Remember to run `create_tables.py` before running the cell below to ensure you've created/resetted the `time` table in the sparkify database."
   ]
  },
  {
   "cell_type": "code",
   "execution_count": 18,
   "metadata": {
    "editable": true
   },
   "outputs": [],
   "source": [
    "for i, row in time_df.iterrows():\n",
    "    cur.execute(time_table_insert, list(row))\n",
    "    conn.commit()"
   ]
  },
  {
   "cell_type": "markdown",
   "metadata": {
    "editable": true
   },
   "source": [
    "Run `test.ipynb` to see if you've successfully added records to this table."
   ]
  },
  {
   "cell_type": "markdown",
   "metadata": {
    "editable": true
   },
   "source": [
    "## #4: `users` Table\n",
    "#### Extract Data for Users Table\n",
    "- Select columns for user ID, first name, last name, gender and level and set to `user_df`"
   ]
  },
  {
   "cell_type": "code",
   "execution_count": 19,
   "metadata": {
    "editable": true
   },
   "outputs": [
    {
     "data": {
      "text/html": [
       "<div>\n",
       "<style scoped>\n",
       "    .dataframe tbody tr th:only-of-type {\n",
       "        vertical-align: middle;\n",
       "    }\n",
       "\n",
       "    .dataframe tbody tr th {\n",
       "        vertical-align: top;\n",
       "    }\n",
       "\n",
       "    .dataframe thead th {\n",
       "        text-align: right;\n",
       "    }\n",
       "</style>\n",
       "<table border=\"1\" class=\"dataframe\">\n",
       "  <thead>\n",
       "    <tr style=\"text-align: right;\">\n",
       "      <th></th>\n",
       "      <th>userId</th>\n",
       "      <th>firstName</th>\n",
       "      <th>lastName</th>\n",
       "      <th>gender</th>\n",
       "      <th>level</th>\n",
       "    </tr>\n",
       "  </thead>\n",
       "  <tbody>\n",
       "    <tr>\n",
       "      <th>1</th>\n",
       "      <td>20</td>\n",
       "      <td>Aiden</td>\n",
       "      <td>Ramirez</td>\n",
       "      <td>M</td>\n",
       "      <td>paid</td>\n",
       "    </tr>\n",
       "    <tr>\n",
       "      <th>2</th>\n",
       "      <td>20</td>\n",
       "      <td>Aiden</td>\n",
       "      <td>Ramirez</td>\n",
       "      <td>M</td>\n",
       "      <td>paid</td>\n",
       "    </tr>\n",
       "    <tr>\n",
       "      <th>3</th>\n",
       "      <td>20</td>\n",
       "      <td>Aiden</td>\n",
       "      <td>Ramirez</td>\n",
       "      <td>M</td>\n",
       "      <td>paid</td>\n",
       "    </tr>\n",
       "    <tr>\n",
       "      <th>4</th>\n",
       "      <td>20</td>\n",
       "      <td>Aiden</td>\n",
       "      <td>Ramirez</td>\n",
       "      <td>M</td>\n",
       "      <td>paid</td>\n",
       "    </tr>\n",
       "    <tr>\n",
       "      <th>5</th>\n",
       "      <td>20</td>\n",
       "      <td>Aiden</td>\n",
       "      <td>Ramirez</td>\n",
       "      <td>M</td>\n",
       "      <td>paid</td>\n",
       "    </tr>\n",
       "  </tbody>\n",
       "</table>\n",
       "</div>"
      ],
      "text/plain": [
       "  userId firstName lastName gender level\n",
       "1     20     Aiden  Ramirez      M  paid\n",
       "2     20     Aiden  Ramirez      M  paid\n",
       "3     20     Aiden  Ramirez      M  paid\n",
       "4     20     Aiden  Ramirez      M  paid\n",
       "5     20     Aiden  Ramirez      M  paid"
      ]
     },
     "execution_count": 19,
     "metadata": {},
     "output_type": "execute_result"
    }
   ],
   "source": [
    "user_df = df[['userId', 'firstName', 'lastName', 'gender', 'level']]\n",
    "user_df.head()"
   ]
  },
  {
   "cell_type": "markdown",
   "metadata": {
    "editable": true
   },
   "source": [
    "#### Insert Records into Users Table\n",
    "Implement the `user_table_insert` query in `sql_queries.py` and run the cell below to insert records for the users in this log file into the `users` table. Remember to run `create_tables.py` before running the cell below to ensure you've created/resetted the `users` table in the sparkify database."
   ]
  },
  {
   "cell_type": "code",
   "execution_count": 20,
   "metadata": {
    "editable": true
   },
   "outputs": [],
   "source": [
    "for i, row in user_df.iterrows():\n",
    "    cur.execute(user_table_insert, row)\n",
    "    conn.commit()"
   ]
  },
  {
   "cell_type": "markdown",
   "metadata": {
    "editable": true
   },
   "source": [
    "Run `test.ipynb` to see if you've successfully added records to this table."
   ]
  },
  {
   "cell_type": "markdown",
   "metadata": {
    "editable": true
   },
   "source": [
    "## #5: `songplays` Table\n",
    "#### Extract Data and Songplays Table\n",
    "This one is a little more complicated since information from the songs table, artists table, and original log file are all needed for the `songplays` table. Since the log file does not specify an ID for either the song or the artist, you'll need to get the song ID and artist ID by querying the songs and artists tables to find matches based on song title, artist name, and song duration time.\n",
    "- Implement the `song_select` query in `sql_queries.py` to find the song ID and artist ID based on the title, artist name, and duration of a song.\n",
    "- Select the timestamp, user ID, level, song ID, artist ID, session ID, location, and user agent and set to `songplay_data`\n",
    "\n",
    "#### Insert Records into Songplays Table\n",
    "- Implement the `songplay_table_insert` query and run the cell below to insert records for the songplay actions in this log file into the `songplays` table. Remember to run `create_tables.py` before running the cell below to ensure you've created/resetted the `songplays` table in the sparkify database."
   ]
  },
  {
   "cell_type": "code",
   "execution_count": 21,
   "metadata": {
    "editable": true
   },
   "outputs": [],
   "source": [
    "for index, row in df.iterrows():\n",
    "\n",
    "    # get songid and artistid from song and artist tables\n",
    "    cur.execute(song_select, (row.song, row.artist, int(row.length)))\n",
    "    results = cur.fetchone()\n",
    "    \n",
    "    if results:\n",
    "        song_id, artist_id = results\n",
    "    else:\n",
    "        song_id, artist_id = None, None\n",
    "\n",
    "    # insert songplay record\n",
    "    songplay_data = (row.ts, row.userId, row.level, song_id, artist_id, row.sessionId, row.location, row.userAgent)\n",
    "    cur.execute(songplay_table_insert, songplay_data)\n",
    "    conn.commit()"
   ]
  },
  {
   "cell_type": "markdown",
   "metadata": {
    "editable": true
   },
   "source": [
    "Run `test.ipynb` to see if you've successfully added records to this table."
   ]
  },
  {
   "cell_type": "markdown",
   "metadata": {
    "editable": true
   },
   "source": [
    "# Close Connection to Sparkify Database"
   ]
  },
  {
   "cell_type": "code",
   "execution_count": 22,
   "metadata": {
    "editable": true
   },
   "outputs": [],
   "source": [
    "conn.close()"
   ]
  },
  {
   "cell_type": "markdown",
   "metadata": {
    "editable": true
   },
   "source": [
    "# Implement `etl.py`\n",
    "Use what you've completed in this notebook to implement `etl.py`."
   ]
  },
  {
   "cell_type": "code",
   "execution_count": null,
   "metadata": {
    "editable": true
   },
   "outputs": [],
   "source": []
  }
 ],
 "metadata": {
  "kernelspec": {
   "display_name": "Python 3",
   "language": "python",
   "name": "python3"
  },
  "language_info": {
   "codemirror_mode": {
    "name": "ipython",
    "version": 3
   },
   "file_extension": ".py",
   "mimetype": "text/x-python",
   "name": "python",
   "nbconvert_exporter": "python",
   "pygments_lexer": "ipython3",
   "version": "3.6.3"
  }
 },
 "nbformat": 4,
 "nbformat_minor": 4
}
